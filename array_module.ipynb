{
 "cells": [
  {
   "cell_type": "markdown",
   "id": "mineral-concept",
   "metadata": {},
   "source": [
    "# Array Module of python"
   ]
  },
  {
   "cell_type": "code",
   "execution_count": 1,
   "id": "light-fusion",
   "metadata": {},
   "outputs": [],
   "source": [
    "#Importing the array module\n",
    "import array as arr"
   ]
  },
  {
   "cell_type": "code",
   "execution_count": 2,
   "id": "hired-practitioner",
   "metadata": {},
   "outputs": [],
   "source": [
    "my_arr = arr.array('i',[1,2,2,4,5,6])"
   ]
  },
  {
   "cell_type": "code",
   "execution_count": 3,
   "id": "wrong-concrete",
   "metadata": {},
   "outputs": [
    {
     "name": "stdout",
     "output_type": "stream",
     "text": [
      "array('i', [1, 2, 2, 4, 5, 6])\n"
     ]
    }
   ],
   "source": [
    "print(my_arr)"
   ]
  },
  {
   "cell_type": "code",
   "execution_count": 4,
   "id": "genuine-medicine",
   "metadata": {},
   "outputs": [
    {
     "name": "stdout",
     "output_type": "stream",
     "text": [
      "1\n"
     ]
    }
   ],
   "source": [
    "#Accessing the array\n",
    "print(my_arr[0])"
   ]
  },
  {
   "cell_type": "code",
   "execution_count": 5,
   "id": "subjective-shopper",
   "metadata": {},
   "outputs": [
    {
     "data": {
      "text/plain": [
       "array('i', [1, 2, 2, 4])"
      ]
     },
     "execution_count": 5,
     "metadata": {},
     "output_type": "execute_result"
    }
   ],
   "source": [
    "#Slicing the array\n",
    "my_arr[:4]"
   ]
  },
  {
   "cell_type": "code",
   "execution_count": 6,
   "id": "imported-juice",
   "metadata": {},
   "outputs": [],
   "source": [
    "#Changing an element\n",
    "my_arr[0] = 100"
   ]
  },
  {
   "cell_type": "code",
   "execution_count": 7,
   "id": "funky-execution",
   "metadata": {},
   "outputs": [
    {
     "data": {
      "text/plain": [
       "array('i', [100, 2, 2, 4, 5, 6])"
      ]
     },
     "execution_count": 7,
     "metadata": {},
     "output_type": "execute_result"
    }
   ],
   "source": [
    "my_arr"
   ]
  },
  {
   "cell_type": "code",
   "execution_count": 9,
   "id": "polyphonic-therapy",
   "metadata": {},
   "outputs": [],
   "source": [
    "#changing a range of elements\n",
    "my_arr[1:3] = arr.array('i',[200,300])"
   ]
  },
  {
   "cell_type": "code",
   "execution_count": 10,
   "id": "satellite-seminar",
   "metadata": {},
   "outputs": [
    {
     "data": {
      "text/plain": [
       "array('i', [100, 200, 300, 4, 5, 6])"
      ]
     },
     "execution_count": 10,
     "metadata": {},
     "output_type": "execute_result"
    }
   ],
   "source": [
    "my_arr"
   ]
  },
  {
   "cell_type": "code",
   "execution_count": 11,
   "id": "extra-static",
   "metadata": {},
   "outputs": [],
   "source": [
    "#Add item using append method\n",
    "my_arr.append(700)"
   ]
  },
  {
   "cell_type": "code",
   "execution_count": 12,
   "id": "traditional-oasis",
   "metadata": {},
   "outputs": [
    {
     "data": {
      "text/plain": [
       "array('i', [100, 200, 300, 4, 5, 6, 700])"
      ]
     },
     "execution_count": 12,
     "metadata": {},
     "output_type": "execute_result"
    }
   ],
   "source": [
    "my_arr"
   ]
  },
  {
   "cell_type": "markdown",
   "id": "attached-institution",
   "metadata": {},
   "source": [
    "### We can also concatenate two arrays using + operator."
   ]
  },
  {
   "cell_type": "code",
   "execution_count": 13,
   "id": "compatible-genetics",
   "metadata": {},
   "outputs": [],
   "source": [
    "#removing the items using del\n",
    "del my_arr[5]\n"
   ]
  },
  {
   "cell_type": "code",
   "execution_count": 14,
   "id": "cloudy-walter",
   "metadata": {},
   "outputs": [
    {
     "data": {
      "text/plain": [
       "array('i', [100, 200, 300, 4, 5, 700])"
      ]
     },
     "execution_count": 14,
     "metadata": {},
     "output_type": "execute_result"
    }
   ],
   "source": [
    "my_arr"
   ]
  },
  {
   "cell_type": "markdown",
   "id": "complex-serum",
   "metadata": {},
   "source": [
    "### We can use the remove() method to remove the given item, and pop() method to remove an item at the given index."
   ]
  },
  {
   "cell_type": "code",
   "execution_count": null,
   "id": "attempted-influence",
   "metadata": {},
   "outputs": [],
   "source": []
  }
 ],
 "metadata": {
  "kernelspec": {
   "display_name": "Python 3",
   "language": "python",
   "name": "python3"
  },
  "language_info": {
   "codemirror_mode": {
    "name": "ipython",
    "version": 3
   },
   "file_extension": ".py",
   "mimetype": "text/x-python",
   "name": "python",
   "nbconvert_exporter": "python",
   "pygments_lexer": "ipython3",
   "version": "3.7.8"
  }
 },
 "nbformat": 4,
 "nbformat_minor": 5
}
